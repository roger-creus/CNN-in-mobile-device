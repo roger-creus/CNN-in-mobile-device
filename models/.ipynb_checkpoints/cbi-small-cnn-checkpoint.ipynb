{
 "cells": [
  {
   "cell_type": "code",
   "execution_count": 2,
   "metadata": {
    "_cell_guid": "b1076dfc-b9ad-4769-8c92-a6c4dae69d19",
    "_uuid": "8f2839f25d086af736a60e9eeb907d3b93b6e0e5"
   },
   "outputs": [],
   "source": [
    "# This Python 3 environment comes with many helpful analytics libraries installed\n",
    "# It is defined by the kaggle/python Docker image: https://github.com/kaggle/docker-python\n",
    "# For example, here's several helpful packages to load\n",
    "\n",
    "import numpy as np # linear algebra\n",
    "import pandas as pd # data processing, CSV file I/O (e.g. pd.read_csv)\n",
    "\n",
    "import torch\n",
    "import torchvision\n",
    "import torch.nn as nn\n",
    "import torch.nn.functional as F\n",
    "import torch.optim as optim\n",
    "from torchvision import transforms\n",
    "\n",
    "import matplotlib.pyplot as plt\n",
    "import csv\n",
    "\n",
    "import cv2\n",
    "\n",
    "from PIL import Image\n",
    "from PIL import ImageFilter\n",
    "\n",
    "\n",
    "\n",
    "# Input data files are available in the read-only \"../input/\" directory\n",
    "# For example, running this (by clicking run or pressing Shift+Enter) will list all files under the input directory\n",
    "\n",
    "import os\n",
    "import shutil\n",
    "#for dirname, _, filenames in os.walk('/kaggle/input'):\n",
    "#    for filename in filenames:\n",
    "#        print(os.path.join(dirname, filename))\n",
    "\n",
    "# You can write up to 5GB to the current directory (/kaggle/working/) that gets preserved as output when you create a version using \"Save & Run All\" \n",
    "# You can also write temporary files to /kaggle/temp/, but they won't be saved outside of the current session"
   ]
  },
  {
   "cell_type": "markdown",
   "metadata": {},
   "source": [
    "# **PREPROCESSING**"
   ]
  },
  {
   "cell_type": "code",
   "execution_count": null,
   "metadata": {},
   "outputs": [],
   "source": [
    "### PREPROCESS IN PYTORCH\n",
    "\n",
    "preprocess = transforms.Compose([\n",
    "    transforms.Resize(256),\n",
    "    transforms.CenterCrop(256),\n",
    "    transforms.ToTensor(),\n",
    "    transforms.Normalize(mean=[0.3418, 0.3126, 0.3224], std=[0.1627, 0.1632, 0.1731])\n",
    "])"
   ]
  },
  {
   "cell_type": "markdown",
   "metadata": {},
   "source": [
    "# DATA LOADING"
   ]
  },
  {
   "cell_type": "code",
   "execution_count": null,
   "metadata": {},
   "outputs": [],
   "source": [
    "trainset = torchvision.datasets.ImageFolder(\"../input/trafficsign-training-data/Final_Training/Images\", transform = preprocess)\n",
    "train_loader = torch.utils.data.DataLoader(trainset, batch_size=64, shuffle=True, drop_last=False)"
   ]
  },
  {
   "cell_type": "code",
   "execution_count": null,
   "metadata": {},
   "outputs": [],
   "source": [
    "testset = torchvision.datasets.ImageFolder(\"../input/tagged-test-images-20/new_test_imgs\", transform = preprocess)\n",
    "test_loader = torch.utils.data.DataLoader(testset, batch_size=64, shuffle=True, drop_last=True)"
   ]
  },
  {
   "cell_type": "code",
   "execution_count": null,
   "metadata": {
    "id": "rbKy9kY9dqut"
   },
   "outputs": [],
   "source": [
    "class BigNet(nn.Module):\n",
    "    def __init__(self):\n",
    "        super().__init__()\n",
    "    \n",
    "        self.conv1 = nn.Conv2d(3, 16, 3, 1, padding=1)\n",
    "        self.conv_bn_1 = nn.BatchNorm2d(16)\n",
    "        torch.nn.init.xavier_normal_(self.conv1.weight)\n",
    "        torch.nn.init.zeros_(self.conv1.bias)\n",
    "        \n",
    "        self.conv2 = nn.Conv2d(16, 32, 3, 1, padding=1)\n",
    "        self.conv_bn_2 = nn.BatchNorm2d(32)\n",
    "        torch.nn.init.xavier_normal_(self.conv2.weight)\n",
    "        torch.nn.init.zeros_(self.conv2.bias)\n",
    "        \n",
    "        self.conv3 = nn.Conv2d(32, 64, 3, 1, padding=1)\n",
    "        self.conv_bn_3 = nn.BatchNorm2d(64)\n",
    "        torch.nn.init.xavier_normal_(self.conv3.weight)\n",
    "        torch.nn.init.zeros_(self.conv3.bias)\n",
    "        \n",
    "        self.conv4 = nn.Conv2d(64, 128 , 3, 1, padding=1)\n",
    "        self.conv_bn_4 = nn.BatchNorm2d(128)\n",
    "        torch.nn.init.xavier_normal_(self.conv4.weight)\n",
    "        torch.nn.init.zeros_(self.conv4.bias)\n",
    "        \n",
    "        self.conv5 = nn.Conv2d(128, 256 , 3, 1, padding=1)\n",
    "        self.conv_bn_5 = nn.BatchNorm2d(256)\n",
    "        torch.nn.init.xavier_normal_(self.conv5.weight)\n",
    "        torch.nn.init.zeros_(self.conv5.bias)\n",
    "        \n",
    "        self.conv6 = nn.Conv2d(256, 512 , 3, 1, padding=1)\n",
    "        self.conv_bn_6 = nn.BatchNorm2d(512)\n",
    "        torch.nn.init.xavier_normal_(self.conv6.weight)\n",
    "        torch.nn.init.zeros_(self.conv6.bias)\n",
    "\n",
    "        self.pool  = nn.MaxPool2d(2,2)\n",
    "\n",
    "        self.act   = nn.ReLU(inplace=False)\n",
    "        self.drop = nn.Dropout2d(0.2)    \n",
    "\n",
    "        self.mlp = nn.Sequential(\n",
    "            nn.Linear(4 * 4 * 512, 2 * 2 * 128),\n",
    "            nn.ReLU(),\n",
    "            nn.Dropout(0.4),\n",
    "            nn.Linear(2 * 2 * 128, 43)     \n",
    "            #nn.Softmax(dim=-1)    \n",
    "        )\n",
    " \n",
    "    def forward(self, x):\n",
    "        x = self.conv_bn_1(self.conv1(x))\n",
    "        x = self.pool(self.act(x))\n",
    "        x = self.drop(x)\n",
    "\n",
    "        x = self.conv_bn_2(self.conv2(x))\n",
    "        x = self.pool(self.act(x))\n",
    "        x = self.drop(x)\n",
    "\n",
    "        x = self.conv_bn_3(self.conv3(x))\n",
    "        x = self.pool(self.act(x))\n",
    "        x = self.drop(x)\n",
    "\n",
    "        x = self.conv_bn_4(self.conv4(x))\n",
    "        x = self.pool(self.act(x))\n",
    "        x = self.drop(x)\n",
    "        \n",
    "        x = self.conv_bn_5(self.conv5(x))\n",
    "        x = self.pool(self.act(x))\n",
    "        x = self.drop(x)\n",
    "        \n",
    "        x = self.conv_bn_6(self.conv6(x))\n",
    "        x = self.pool(self.act(x))\n",
    "        x = self.drop(x)\n",
    "\n",
    "\n",
    "        bsz, nch, height, width = x.shape\n",
    "        x = torch.flatten(x, start_dim=1, end_dim=-1)\n",
    "        \n",
    "        y = self.mlp(x)\n",
    "\n",
    "        return y"
   ]
  },
  {
   "cell_type": "code",
   "execution_count": null,
   "metadata": {},
   "outputs": [],
   "source": [
    "def model_params(model):\n",
    "    # from: https://discuss.pytorch.org/t/how-do-i-check-the-number-of-parameters-of-a-model/4325/6\n",
    "    pp=0\n",
    "    for p in list(model.parameters()):\n",
    "        nn=1\n",
    "        for s in list(p.size()):\n",
    "            nn = nn*s\n",
    "        pp += nn\n",
    "    return pp"
   ]
  },
  {
   "cell_type": "code",
   "execution_count": null,
   "metadata": {},
   "outputs": [],
   "source": [
    "device = \"cuda:0\""
   ]
  },
  {
   "cell_type": "code",
   "execution_count": null,
   "metadata": {},
   "outputs": [],
   "source": [
    "cnn = BigNet()\n",
    "print(model_params(cnn))\n",
    "cnn = cnn.to(device)"
   ]
  },
  {
   "cell_type": "code",
   "execution_count": null,
   "metadata": {},
   "outputs": [],
   "source": [
    "criterion = nn.CrossEntropyLoss()\n",
    "optimizer = optim.SGD(cnn.parameters(), lr=0.01, momentum = 0.9)\n",
    "scheduler = optim.lr_scheduler.StepLR(optimizer, step_size = 5, gamma = 0.1)\n",
    "epochs = 10\n",
    "steps = 0\n",
    "running_loss = 0\n",
    "train_losses = []\n",
    "test_losses = []\n",
    "print_every = 100"
   ]
  },
  {
   "cell_type": "code",
   "execution_count": null,
   "metadata": {},
   "outputs": [],
   "source": [
    "for epoch in range(epochs):\n",
    "    steps = 0\n",
    "    for inputs, labels in train_loader:\n",
    "        steps += 1\n",
    "        inputs, labels = inputs.to(device), labels.to(device)\n",
    "       \n",
    "        optimizer.zero_grad()\n",
    "        \n",
    "        logps = cnn.forward(inputs)\n",
    "        loss = criterion(logps, labels)\n",
    "        loss.backward()\n",
    "        optimizer.step()\n",
    "        \n",
    "        running_loss += loss.item()\n",
    "        \n",
    "        if steps % print_every == 0:\n",
    "            test_loss = 0\n",
    "            accuracy_t = 0\n",
    "            cnn.eval()\n",
    "            with torch.no_grad():\n",
    "                for inputs_val, labels_val in test_loader:\n",
    "                    inputs_val, labels_val = inputs_val.to(device), labels_val.to(device)\n",
    "                    \n",
    "                    logps_t = cnn.forward(inputs_val)\n",
    "                    batch_loss = criterion(logps_t, labels_val)\n",
    "                    test_loss += batch_loss.item()\n",
    "                    \n",
    "                    top_p, top_class = logps_t.topk(1, dim=1)\n",
    "                    equals = top_class == labels_val.view(*top_class.shape)\n",
    "                    accuracy_t += torch.mean(equals.type(torch.FloatTensor)).item()\n",
    "            \n",
    "            print(f\"Epoch {epoch+1}/{epochs}.. \"\n",
    "                  f\"Train loss: {running_loss/print_every:.3f}.. \"\n",
    "                  f\"Test loss: {test_loss/len(test_loader):.3f}.. \"\n",
    "                  f\"Test accuracy: {accuracy_t/len(test_loader):.3f}\")\n",
    "            running_loss = 0\n",
    "            cnn.train()\n",
    "    scheduler.step()\n",
    "    test_losses.append(test_loss/len(test_loader))\n",
    "    train_losses.append(running_loss/len(train_loader))"
   ]
  },
  {
   "cell_type": "code",
   "execution_count": null,
   "metadata": {},
   "outputs": [],
   "source": [
    "trial = torch.FloatTensor(1,3,256,256).to(device)"
   ]
  },
  {
   "cell_type": "code",
   "execution_count": null,
   "metadata": {},
   "outputs": [],
   "source": [
    "path = \"light_cnn_model.onnx\"\n",
    "torch.onnx.export(cnn, trial, path)"
   ]
  }
 ],
 "metadata": {
  "kernelspec": {
   "display_name": "Python 3",
   "language": "python",
   "name": "python3"
  },
  "language_info": {
   "codemirror_mode": {
    "name": "ipython",
    "version": 3
   },
   "file_extension": ".py",
   "mimetype": "text/x-python",
   "name": "python",
   "nbconvert_exporter": "python",
   "pygments_lexer": "ipython3",
   "version": "3.6.4"
  }
 },
 "nbformat": 4,
 "nbformat_minor": 4
}
